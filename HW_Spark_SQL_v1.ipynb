{
  "nbformat": 4,
  "nbformat_minor": 0,
  "metadata": {
    "colab": {
      "provenance": [],
      "include_colab_link": true
    },
    "kernelspec": {
      "name": "python3",
      "display_name": "Python 3"
    },
    "language_info": {
      "name": "python"
    }
  },
  "cells": [
    {
      "cell_type": "markdown",
      "metadata": {
        "id": "view-in-github",
        "colab_type": "text"
      },
      "source": [
        "<a href=\"https://colab.research.google.com/github/MarinaStepanova1709/Spark_sql/blob/main/HW_Spark_SQL_v1.ipynb\" target=\"_parent\"><img src=\"https://colab.research.google.com/assets/colab-badge.svg\" alt=\"Open In Colab\"/></a>"
      ]
    },
    {
      "cell_type": "markdown",
      "source": [
        "# Установка pyspark с помощью pip"
      ],
      "metadata": {
        "id": "PNXQrqjA3g5r"
      }
    },
    {
      "cell_type": "code",
      "execution_count": 47,
      "metadata": {
        "id": "o7IdNrmm7je_"
      },
      "outputs": [],
      "source": [
        "pip install --quiet pyspark"
      ]
    },
    {
      "cell_type": "code",
      "source": [
        "from pyspark.sql import SparkSession\n",
        "\n",
        "# остановить sparkSession\n",
        "# spark.stop()\n",
        "spark = SparkSession.builder.appName(\"Practice\").getOrCreate()"
      ],
      "metadata": {
        "id": "lVfRnTgi7jfK"
      },
      "execution_count": 54,
      "outputs": []
    },
    {
      "cell_type": "markdown",
      "source": [
        "# Чтение из файла"
      ],
      "metadata": {
        "id": "NfUi8lTQzpcQ"
      }
    },
    {
      "cell_type": "code",
      "source": [
        "from pyspark import SparkFiles\n",
        "\n",
        "# covid_data_file_url = \"https://raw.githubusercontent.com/glincow/netology-spark-sql/main/data/covid-data.csv\"\n",
        "covid_data_file_url = \"https://raw.githubusercontent.com/MarinaStepanova1709/Spark_sql/main/covid-data.csv\"\n",
        "spark.sparkContext.addFile(covid_data_file_url)\n",
        "file_path  = 'file://' + SparkFiles.get('covid-data.csv')\n",
        "df = spark.read.option('inferSchema', 'true').option('header', 'true').csv(file_path)"
      ],
      "metadata": {
        "id": "xs_qZd0G7jfL"
      },
      "execution_count": 55,
      "outputs": []
    },
    {
      "cell_type": "markdown",
      "source": [
        "Посмотрим, что в таблице\n"
      ],
      "metadata": {
        "id": "zY2B647CXD4B"
      }
    },
    {
      "cell_type": "code",
      "source": [
        "df.show(15)\n"
      ],
      "metadata": {
        "colab": {
          "base_uri": "https://localhost:8080/"
        },
        "id": "vAqGGv876F33",
        "outputId": "5194f434-4f93-4408-b96f-aa60885082c1"
      },
      "execution_count": 58,
      "outputs": [
        {
          "output_type": "stream",
          "name": "stdout",
          "text": [
            "+--------+---------+-----------+----------+-----------+---------+------------------+------------+----------+-------------------+-----------------------+---------------------+------------------------------+------------------------+----------------------+-------------------------------+-----------------+------------+------------------------+-------------+-------------------------+---------------------+---------------------------------+----------------------+----------------------------------+---------+-----------+------------------------+----------------------+------------------+-------------------------------+-------------+--------------+-----------+------------------+-----------------+-----------------------+----------------+-------------------------+------------------------------+-----------------------------+-----------------------------------+-------------------------------------+----------------+-----------+------------------+----------+-------------+-------------+--------------+---------------+---------------------+-------------------+--------------+------------+----------------------+--------------------------+---------------+-----------------------+\n",
            "|iso_code|continent|   location|      date|total_cases|new_cases|new_cases_smoothed|total_deaths|new_deaths|new_deaths_smoothed|total_cases_per_million|new_cases_per_million|new_cases_smoothed_per_million|total_deaths_per_million|new_deaths_per_million|new_deaths_smoothed_per_million|reproduction_rate|icu_patients|icu_patients_per_million|hosp_patients|hosp_patients_per_million|weekly_icu_admissions|weekly_icu_admissions_per_million|weekly_hosp_admissions|weekly_hosp_admissions_per_million|new_tests|total_tests|total_tests_per_thousand|new_tests_per_thousand|new_tests_smoothed|new_tests_smoothed_per_thousand|positive_rate|tests_per_case|tests_units|total_vaccinations|people_vaccinated|people_fully_vaccinated|new_vaccinations|new_vaccinations_smoothed|total_vaccinations_per_hundred|people_vaccinated_per_hundred|people_fully_vaccinated_per_hundred|new_vaccinations_smoothed_per_million|stringency_index| population|population_density|median_age|aged_65_older|aged_70_older|gdp_per_capita|extreme_poverty|cardiovasc_death_rate|diabetes_prevalence|female_smokers|male_smokers|handwashing_facilities|hospital_beds_per_thousand|life_expectancy|human_development_index|\n",
            "+--------+---------+-----------+----------+-----------+---------+------------------+------------+----------+-------------------+-----------------------+---------------------+------------------------------+------------------------+----------------------+-------------------------------+-----------------+------------+------------------------+-------------+-------------------------+---------------------+---------------------------------+----------------------+----------------------------------+---------+-----------+------------------------+----------------------+------------------+-------------------------------+-------------+--------------+-----------+------------------+-----------------+-----------------------+----------------+-------------------------+------------------------------+-----------------------------+-----------------------------------+-------------------------------------+----------------+-----------+------------------+----------+-------------+-------------+--------------+---------------+---------------------+-------------------+--------------+------------+----------------------+--------------------------+---------------+-----------------------+\n",
            "|     AFG|     Asia|Afghanistan|2020-02-24|        1.0|      1.0|              NULL|        NULL|      NULL|               NULL|                  0.026|                0.026|                          NULL|                    NULL|                  NULL|                           NULL|             NULL|        NULL|                    NULL|         NULL|                     NULL|                 NULL|                             NULL|                  NULL|                              NULL|     NULL|       NULL|                    NULL|                  NULL|              NULL|                           NULL|         NULL|          NULL|       NULL|              NULL|             NULL|                   NULL|            NULL|                     NULL|                          NULL|                         NULL|                               NULL|                                 NULL|            8.33|3.8928341E7|            54.422|      18.6|        2.581|        1.337|      1803.987|           NULL|              597.029|               9.59|          NULL|        NULL|                37.746|                       0.5|          64.83|                  0.511|\n",
            "|     AFG|     Asia|Afghanistan|2020-02-25|        1.0|      0.0|              NULL|        NULL|      NULL|               NULL|                  0.026|                  0.0|                          NULL|                    NULL|                  NULL|                           NULL|             NULL|        NULL|                    NULL|         NULL|                     NULL|                 NULL|                             NULL|                  NULL|                              NULL|     NULL|       NULL|                    NULL|                  NULL|              NULL|                           NULL|         NULL|          NULL|       NULL|              NULL|             NULL|                   NULL|            NULL|                     NULL|                          NULL|                         NULL|                               NULL|                                 NULL|            8.33|3.8928341E7|            54.422|      18.6|        2.581|        1.337|      1803.987|           NULL|              597.029|               9.59|          NULL|        NULL|                37.746|                       0.5|          64.83|                  0.511|\n",
            "|     AFG|     Asia|Afghanistan|2020-02-26|        1.0|      0.0|              NULL|        NULL|      NULL|               NULL|                  0.026|                  0.0|                          NULL|                    NULL|                  NULL|                           NULL|             NULL|        NULL|                    NULL|         NULL|                     NULL|                 NULL|                             NULL|                  NULL|                              NULL|     NULL|       NULL|                    NULL|                  NULL|              NULL|                           NULL|         NULL|          NULL|       NULL|              NULL|             NULL|                   NULL|            NULL|                     NULL|                          NULL|                         NULL|                               NULL|                                 NULL|            8.33|3.8928341E7|            54.422|      18.6|        2.581|        1.337|      1803.987|           NULL|              597.029|               9.59|          NULL|        NULL|                37.746|                       0.5|          64.83|                  0.511|\n",
            "|     AFG|     Asia|Afghanistan|2020-02-27|        1.0|      0.0|              NULL|        NULL|      NULL|               NULL|                  0.026|                  0.0|                          NULL|                    NULL|                  NULL|                           NULL|             NULL|        NULL|                    NULL|         NULL|                     NULL|                 NULL|                             NULL|                  NULL|                              NULL|     NULL|       NULL|                    NULL|                  NULL|              NULL|                           NULL|         NULL|          NULL|       NULL|              NULL|             NULL|                   NULL|            NULL|                     NULL|                          NULL|                         NULL|                               NULL|                                 NULL|            8.33|3.8928341E7|            54.422|      18.6|        2.581|        1.337|      1803.987|           NULL|              597.029|               9.59|          NULL|        NULL|                37.746|                       0.5|          64.83|                  0.511|\n",
            "|     AFG|     Asia|Afghanistan|2020-02-28|        1.0|      0.0|              NULL|        NULL|      NULL|               NULL|                  0.026|                  0.0|                          NULL|                    NULL|                  NULL|                           NULL|             NULL|        NULL|                    NULL|         NULL|                     NULL|                 NULL|                             NULL|                  NULL|                              NULL|     NULL|       NULL|                    NULL|                  NULL|              NULL|                           NULL|         NULL|          NULL|       NULL|              NULL|             NULL|                   NULL|            NULL|                     NULL|                          NULL|                         NULL|                               NULL|                                 NULL|            8.33|3.8928341E7|            54.422|      18.6|        2.581|        1.337|      1803.987|           NULL|              597.029|               9.59|          NULL|        NULL|                37.746|                       0.5|          64.83|                  0.511|\n",
            "|     AFG|     Asia|Afghanistan|2020-02-29|        1.0|      0.0|             0.143|        NULL|      NULL|                0.0|                  0.026|                  0.0|                         0.004|                    NULL|                  NULL|                            0.0|             NULL|        NULL|                    NULL|         NULL|                     NULL|                 NULL|                             NULL|                  NULL|                              NULL|     NULL|       NULL|                    NULL|                  NULL|              NULL|                           NULL|         NULL|          NULL|       NULL|              NULL|             NULL|                   NULL|            NULL|                     NULL|                          NULL|                         NULL|                               NULL|                                 NULL|            8.33|3.8928341E7|            54.422|      18.6|        2.581|        1.337|      1803.987|           NULL|              597.029|               9.59|          NULL|        NULL|                37.746|                       0.5|          64.83|                  0.511|\n",
            "|     AFG|     Asia|Afghanistan|2020-03-01|        1.0|      0.0|             0.143|        NULL|      NULL|                0.0|                  0.026|                  0.0|                         0.004|                    NULL|                  NULL|                            0.0|             NULL|        NULL|                    NULL|         NULL|                     NULL|                 NULL|                             NULL|                  NULL|                              NULL|     NULL|       NULL|                    NULL|                  NULL|              NULL|                           NULL|         NULL|          NULL|       NULL|              NULL|             NULL|                   NULL|            NULL|                     NULL|                          NULL|                         NULL|                               NULL|                                 NULL|           27.78|3.8928341E7|            54.422|      18.6|        2.581|        1.337|      1803.987|           NULL|              597.029|               9.59|          NULL|        NULL|                37.746|                       0.5|          64.83|                  0.511|\n",
            "|     AFG|     Asia|Afghanistan|2020-03-02|        1.0|      0.0|               0.0|        NULL|      NULL|                0.0|                  0.026|                  0.0|                           0.0|                    NULL|                  NULL|                            0.0|             NULL|        NULL|                    NULL|         NULL|                     NULL|                 NULL|                             NULL|                  NULL|                              NULL|     NULL|       NULL|                    NULL|                  NULL|              NULL|                           NULL|         NULL|          NULL|       NULL|              NULL|             NULL|                   NULL|            NULL|                     NULL|                          NULL|                         NULL|                               NULL|                                 NULL|           27.78|3.8928341E7|            54.422|      18.6|        2.581|        1.337|      1803.987|           NULL|              597.029|               9.59|          NULL|        NULL|                37.746|                       0.5|          64.83|                  0.511|\n",
            "|     AFG|     Asia|Afghanistan|2020-03-03|        2.0|      1.0|             0.143|        NULL|      NULL|                0.0|                  0.051|                0.026|                         0.004|                    NULL|                  NULL|                            0.0|             NULL|        NULL|                    NULL|         NULL|                     NULL|                 NULL|                             NULL|                  NULL|                              NULL|     NULL|       NULL|                    NULL|                  NULL|              NULL|                           NULL|         NULL|          NULL|       NULL|              NULL|             NULL|                   NULL|            NULL|                     NULL|                          NULL|                         NULL|                               NULL|                                 NULL|           27.78|3.8928341E7|            54.422|      18.6|        2.581|        1.337|      1803.987|           NULL|              597.029|               9.59|          NULL|        NULL|                37.746|                       0.5|          64.83|                  0.511|\n",
            "|     AFG|     Asia|Afghanistan|2020-03-04|        4.0|      2.0|             0.429|        NULL|      NULL|                0.0|                  0.103|                0.051|                         0.011|                    NULL|                  NULL|                            0.0|             NULL|        NULL|                    NULL|         NULL|                     NULL|                 NULL|                             NULL|                  NULL|                              NULL|     NULL|       NULL|                    NULL|                  NULL|              NULL|                           NULL|         NULL|          NULL|       NULL|              NULL|             NULL|                   NULL|            NULL|                     NULL|                          NULL|                         NULL|                               NULL|                                 NULL|           27.78|3.8928341E7|            54.422|      18.6|        2.581|        1.337|      1803.987|           NULL|              597.029|               9.59|          NULL|        NULL|                37.746|                       0.5|          64.83|                  0.511|\n",
            "|     AFG|     Asia|Afghanistan|2020-03-05|        4.0|      0.0|             0.429|        NULL|      NULL|                0.0|                  0.103|                  0.0|                         0.011|                    NULL|                  NULL|                            0.0|             NULL|        NULL|                    NULL|         NULL|                     NULL|                 NULL|                             NULL|                  NULL|                              NULL|     NULL|       NULL|                    NULL|                  NULL|              NULL|                           NULL|         NULL|          NULL|       NULL|              NULL|             NULL|                   NULL|            NULL|                     NULL|                          NULL|                         NULL|                               NULL|                                 NULL|           27.78|3.8928341E7|            54.422|      18.6|        2.581|        1.337|      1803.987|           NULL|              597.029|               9.59|          NULL|        NULL|                37.746|                       0.5|          64.83|                  0.511|\n",
            "|     AFG|     Asia|Afghanistan|2020-03-06|        4.0|      0.0|             0.429|        NULL|      NULL|                0.0|                  0.103|                  0.0|                         0.011|                    NULL|                  NULL|                            0.0|             NULL|        NULL|                    NULL|         NULL|                     NULL|                 NULL|                             NULL|                  NULL|                              NULL|     NULL|       NULL|                    NULL|                  NULL|              NULL|                           NULL|         NULL|          NULL|       NULL|              NULL|             NULL|                   NULL|            NULL|                     NULL|                          NULL|                         NULL|                               NULL|                                 NULL|           27.78|3.8928341E7|            54.422|      18.6|        2.581|        1.337|      1803.987|           NULL|              597.029|               9.59|          NULL|        NULL|                37.746|                       0.5|          64.83|                  0.511|\n",
            "|     AFG|     Asia|Afghanistan|2020-03-07|        4.0|      0.0|             0.429|        NULL|      NULL|                0.0|                  0.103|                  0.0|                         0.011|                    NULL|                  NULL|                            0.0|             NULL|        NULL|                    NULL|         NULL|                     NULL|                 NULL|                             NULL|                  NULL|                              NULL|     NULL|       NULL|                    NULL|                  NULL|              NULL|                           NULL|         NULL|          NULL|       NULL|              NULL|             NULL|                   NULL|            NULL|                     NULL|                          NULL|                         NULL|                               NULL|                                 NULL|           27.78|3.8928341E7|            54.422|      18.6|        2.581|        1.337|      1803.987|           NULL|              597.029|               9.59|          NULL|        NULL|                37.746|                       0.5|          64.83|                  0.511|\n",
            "|     AFG|     Asia|Afghanistan|2020-03-08|        5.0|      1.0|             0.571|        NULL|      NULL|                0.0|                  0.128|                0.026|                         0.015|                    NULL|                  NULL|                            0.0|             NULL|        NULL|                    NULL|         NULL|                     NULL|                 NULL|                             NULL|                  NULL|                              NULL|     NULL|       NULL|                    NULL|                  NULL|              NULL|                           NULL|         NULL|          NULL|       NULL|              NULL|             NULL|                   NULL|            NULL|                     NULL|                          NULL|                         NULL|                               NULL|                                 NULL|           27.78|3.8928341E7|            54.422|      18.6|        2.581|        1.337|      1803.987|           NULL|              597.029|               9.59|          NULL|        NULL|                37.746|                       0.5|          64.83|                  0.511|\n",
            "|     AFG|     Asia|Afghanistan|2020-03-09|        7.0|      2.0|             0.857|        NULL|      NULL|                0.0|                   0.18|                0.051|                         0.022|                    NULL|                  NULL|                            0.0|             NULL|        NULL|                    NULL|         NULL|                     NULL|                 NULL|                             NULL|                  NULL|                              NULL|     NULL|       NULL|                    NULL|                  NULL|              NULL|                           NULL|         NULL|          NULL|       NULL|              NULL|             NULL|                   NULL|            NULL|                     NULL|                          NULL|                         NULL|                               NULL|                                 NULL|           27.78|3.8928341E7|            54.422|      18.6|        2.581|        1.337|      1803.987|           NULL|              597.029|               9.59|          NULL|        NULL|                37.746|                       0.5|          64.83|                  0.511|\n",
            "+--------+---------+-----------+----------+-----------+---------+------------------+------------+----------+-------------------+-----------------------+---------------------+------------------------------+------------------------+----------------------+-------------------------------+-----------------+------------+------------------------+-------------+-------------------------+---------------------+---------------------------------+----------------------+----------------------------------+---------+-----------+------------------------+----------------------+------------------+-------------------------------+-------------+--------------+-----------+------------------+-----------------+-----------------------+----------------+-------------------------+------------------------------+-----------------------------+-----------------------------------+-------------------------------------+----------------+-----------+------------------+----------+-------------+-------------+--------------+---------------+---------------------+-------------------+--------------+------------+----------------------+--------------------------+---------------+-----------------------+\n",
            "only showing top 15 rows\n",
            "\n"
          ]
        }
      ]
    },
    {
      "cell_type": "code",
      "source": [
        "# df.schema.json()"
      ],
      "metadata": {
        "id": "AZnQ4XMyzz5b"
      },
      "execution_count": null,
      "outputs": []
    },
    {
      "cell_type": "code",
      "source": [
        "# df.printSchema()"
      ],
      "metadata": {
        "id": "MMUW0DSMz1hu"
      },
      "execution_count": 59,
      "outputs": []
    },
    {
      "cell_type": "markdown",
      "source": [
        "1. Выберите 15 стран с наибольшим процентом переболевших на 31 марта (в выходящем датасете необходимы колонки: iso_code, страна, процент переболевших)"
      ],
      "metadata": {
        "id": "7Wo5aLYNztSA"
      }
    },
    {
      "cell_type": "code",
      "source": [
        "from pyspark.sql import functions as F\n",
        "# выбираем колонки 'iso_code', 'location' и процент переболевших = (всего случаев)/ население\n",
        "# условие  ('date') == '2020-03-31'\n",
        "df_cases = df.select('iso_code', 'location'\n",
        "                     , (F.col('total_cases')/F.col('population') *100).alias('total_cases_percentage')\n",
        ").where(F.col('date') == '2020-03-31')\n",
        "\n",
        "# отсортируем по убыванию случаев в процентном выражении (total_cases_percentage) и оставим 15 верхних\n",
        "df_cases.sort((F.col('total_cases_percentage')).desc()).limit(15).show()\n"
      ],
      "metadata": {
        "colab": {
          "base_uri": "https://localhost:8080/"
        },
        "id": "dNXRQlLxDAJn",
        "outputId": "ec6d9165-d5f0-48a3-e4e7-1e3c4af75bd3"
      },
      "execution_count": 61,
      "outputs": [
        {
          "output_type": "stream",
          "name": "stdout",
          "text": [
            "+--------+--------------+----------------------+\n",
            "|iso_code|      location|total_cases_percentage|\n",
            "+--------+--------------+----------------------+\n",
            "|     VAT|       Vatican|    0.7416563658838072|\n",
            "|     SMR|    San Marino|    0.6953857033413873|\n",
            "|     AND|       Andorra|    0.4866368989840161|\n",
            "|     LUX|    Luxembourg|    0.3479366621084514|\n",
            "|     ISL|       Iceland|    0.3326007326007326|\n",
            "|     ESP|         Spain|   0.20516189755388237|\n",
            "|     CHE|   Switzerland|   0.19186288753587968|\n",
            "|     LIE| Liechtenstein|   0.17830453365498072|\n",
            "|     ITA|         Italy|    0.1749732078891164|\n",
            "|     MCO|        Monaco|   0.13250433187238814|\n",
            "|     AUT|       Austria|   0.11303073370047965|\n",
            "|     BEL|       Belgium|   0.11022798339479065|\n",
            "|OWID_EUN|European Union|   0.08938996679530879|\n",
            "|     DEU|       Germany|   0.08570615766540952|\n",
            "|     NOR|        Norway|   0.08560768916052816|\n",
            "+--------+--------------+----------------------+\n",
            "\n"
          ]
        }
      ]
    },
    {
      "cell_type": "markdown",
      "source": [
        "### 2. Top 10 стран с максимальным зафиксированным кол-вом новых случаев за последнюю неделю марта 2021 в отсортированном порядке по убыванию\n",
        "(в выходящем датасете необходимы колонки: число, страна, кол-во новых случаев)"
      ],
      "metadata": {
        "id": "DJZR64joO-tv"
      }
    },
    {
      "cell_type": "code",
      "source": [
        "start_date = '2021-03-25'\n",
        "end_date = '2021-03-31'\n",
        "\n",
        "# выберем даты между start_date и end_date\n",
        "df_new_cases = df.where(F.col('date').between(start_date,end_date))\n",
        "# Группируем по 'location' и находим максимум new_cases за неделю\n",
        "# потом максимум делим на население\n",
        "df_sum_by_location = df_new_cases.groupBy('iso_code','location') \\\n",
        "    .agg(\n",
        "        F.max('new_cases').alias('new_cases_max')\n",
        "    )\n",
        "\n",
        "# df_sum_by_location.sort((F.col('new_cases_max')).desc()).limit(10).show()\n",
        "\n",
        "# Из результата исключим строки с \"OWID\" - суммарные показатели\n",
        "df_sum_by_location.where(~F.col('iso_code').contains('OWID')).select('iso_code', 'location', 'new_cases_max')\\\n",
        ".sort((F.col('new_cases_max')).desc()).limit(10).show()\n"
      ],
      "metadata": {
        "colab": {
          "base_uri": "https://localhost:8080/"
        },
        "id": "aM3an0LAK5LP",
        "outputId": "cf20823c-abb1-4254-a13c-476f3ebe5ac2"
      },
      "execution_count": 62,
      "outputs": [
        {
          "output_type": "stream",
          "name": "stdout",
          "text": [
            "+--------+-------------+-------------+\n",
            "|iso_code|     location|new_cases_max|\n",
            "+--------+-------------+-------------+\n",
            "|     BRA|       Brazil|     100158.0|\n",
            "|     USA|United States|      77321.0|\n",
            "|     IND|        India|      72330.0|\n",
            "|     FRA|       France|      59054.0|\n",
            "|     TUR|       Turkey|      39302.0|\n",
            "|     POL|       Poland|      35145.0|\n",
            "|     DEU|      Germany|      25014.0|\n",
            "|     ITA|        Italy|      24076.0|\n",
            "|     PER|         Peru|      19206.0|\n",
            "|     UKR|      Ukraine|      18226.0|\n",
            "+--------+-------------+-------------+\n",
            "\n"
          ]
        }
      ]
    },
    {
      "cell_type": "markdown",
      "source": [
        "\n",
        "3. Посчитайте изменение случаев относительно предыдущего дня в России за последнюю неделю марта 2021. (например: в россии вчера было 9150 , сегодня 8763, итог: -387) (в выходящем датасете необходимы колонки: число, кол-во новых случаев вчера, кол-во новых случаев сегодня, дельта)"
      ],
      "metadata": {
        "id": "WHflFOrNYIgt"
      }
    },
    {
      "cell_type": "code",
      "source": [
        "# выберем из датасета Россию за даты между '2021-03-24','2021-03-31'\n",
        "df_russia = df.select('iso_code', 'location', 'date', 'new_cases') \\\n",
        "  .where(\n",
        "    (F.col('location').startswith(\"Rus\")) &\n",
        "    F.col('date').between('2021-03-24','2021-03-31'))\n",
        "# df_russia.show()"
      ],
      "metadata": {
        "id": "dYqgjEjXYo_z"
      },
      "execution_count": 63,
      "outputs": []
    },
    {
      "cell_type": "code",
      "source": [
        "# импортируем оконные функции\n",
        "from pyspark.sql import Window\n",
        "# внутри окна только сортировка по дате по возрастанию, без партишена\n",
        "# сначала добавим 'prev_day_new_cases' через lag\n",
        "# потом вычислим разницу между сегодня и вчера = delta\n",
        "w = Window.orderBy(('date'))\n",
        "# lag - предыдущее значение\n",
        "df_russia.select(\n",
        "    'iso_code',\n",
        "    'date',\n",
        "    F.lag('new_cases').over(w).alias('prev_day_new_cases'),\n",
        "    'new_cases'\n",
        ")\\\n",
        ".withColumn('delta', F.col('new_cases') - F.col('prev_day_new_cases'))\\\n",
        ".where( F.col('date').between('2021-03-25','2021-03-31'))\\\n",
        ".show()"
      ],
      "metadata": {
        "colab": {
          "base_uri": "https://localhost:8080/"
        },
        "id": "JDWjczfIg7Vr",
        "outputId": "1b794c99-2361-4ba3-b3df-6a7fb36eaa3d"
      },
      "execution_count": null,
      "outputs": [
        {
          "output_type": "stream",
          "name": "stdout",
          "text": [
            "+--------+----------+------------------+---------+------+\n",
            "|iso_code|      date|prev_day_new_cases|new_cases| delta|\n",
            "+--------+----------+------------------+---------+------+\n",
            "|     RUS|2021-03-25|            8769.0|   9128.0| 359.0|\n",
            "|     RUS|2021-03-26|            9128.0|   9073.0| -55.0|\n",
            "|     RUS|2021-03-27|            9073.0|   8783.0|-290.0|\n",
            "|     RUS|2021-03-28|            8783.0|   8979.0| 196.0|\n",
            "|     RUS|2021-03-29|            8979.0|   8589.0|-390.0|\n",
            "|     RUS|2021-03-30|            8589.0|   8162.0|-427.0|\n",
            "|     RUS|2021-03-31|            8162.0|   8156.0|  -6.0|\n",
            "+--------+----------+------------------+---------+------+\n",
            "\n"
          ]
        }
      ]
    },
    {
      "cell_type": "code",
      "source": [],
      "metadata": {
        "id": "N4dOkhoA14F3"
      },
      "execution_count": null,
      "outputs": []
    }
  ]
}